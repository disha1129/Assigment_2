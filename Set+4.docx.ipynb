{
 "cells": [
  {
   "cell_type": "raw",
   "id": "89979844",
   "metadata": {},
   "source": [
    "\n",
    "1.\tExamine the following normal Quantile plots carefully. Which of these plots indicates that the data …\n",
    "I.\tAre nearly normal?\n",
    "II.\tHave a bimodal distribution? (One way to recognize a bimodal shape is a “gap” in the spacing of adjacent data values.)\n",
    "III.\tAre skewed (i.e. not symmetric) ?\n",
    "IV.\tHave outliers on both sides of the center?\n",
    "Ans(1)(I) Skewed \n",
    "     (II) Have Outliers on both side\n",
    "     (II) Nearly Normal\n",
    "     (IV)Have abimodal\n",
    "\n",
    "\n"
   ]
  },
  {
   "cell_type": "raw",
   "id": "68f26dce",
   "metadata": {},
   "source": [
    "2.\tFor each of the following statements, indicate whether it is True/False. If false, explain why.\n",
    "\n",
    "The manager of a warehouse monitors the volume of shipments made by the delivery team. The automated tracking system tracks every package as it moves through the facility. A sample of 25 packages is selected and weighed every day. Based on current contracts with customers, the weights should have μ = 22 lbs. and σ = 5 lbs.\n",
    "\n",
    "\tBefore using a normal model for the sampling distribution of the average package weights, the manager must confirm that weights of individual packages are normally distributed.\n",
    "Ans(I) False \n",
    "Reason:- Sample packages atleast 30 , approach for sampling distribution of sample mean distributed as the sample size.\n",
    "\n",
    "\tThe standard error of the daily average SE(x ̅) = 1.\n",
    "Ans(II) True\n",
    "\n"
   ]
  },
  {
   "cell_type": "raw",
   "id": "94e40288",
   "metadata": {},
   "source": [
    "3.\tAuditors at a small community bank randomly sample 100 withdrawal transactions made during the week at an ATM machine located near the bank’s main branch. Over the past 2 years, the average withdrawal amount has been $50 with a standard deviation of $40. Since audit investigations are typically expensive, the auditors decide to not initiate further investigations if the mean transaction amount of the sample is between $45 and $55. What is the probability that in any given week, there will be an investigation?\n",
    "\n",
    "\t1.25%\n",
    "\t2.5%\n",
    "\t10.55%\n",
    "\t21.1%\n",
    "\t50%\n",
    "Ans3)  n= 100 , mu =50  std=40 X=55\n",
    "\tZ= (X-µ)/𝜎/√n\n",
    "\t= (55-50)/40/√100\n",
    "\t= 5/4\n",
    "\t=1.25\n",
    "Probability of Z of this value is 0.7887\n",
    "Probability of investigation is = 1-0.7887=0.2113\n",
    "\t\t\t\t=21.13%\n"
   ]
  },
  {
   "cell_type": "code",
   "execution_count": 1,
   "id": "fda31b2d",
   "metadata": {},
   "outputs": [],
   "source": [
    "#Ans3\n",
    "import numpy as np\n",
    "from scipy import stats\n",
    "from scipy.stats import norm"
   ]
  },
  {
   "cell_type": "code",
   "execution_count": 2,
   "id": "a18d5175",
   "metadata": {},
   "outputs": [],
   "source": [
    "# For No investigation P(45<X<55)\n",
    "# For Investigation 1-P(45<X<55)"
   ]
  },
  {
   "cell_type": "code",
   "execution_count": 3,
   "id": "ed02223b",
   "metadata": {},
   "outputs": [
    {
     "data": {
      "text/plain": [
       "-1.25"
      ]
     },
     "execution_count": 3,
     "metadata": {},
     "output_type": "execute_result"
    }
   ],
   "source": [
    "# find z-scores at x=45; z=(s_mean-P_mean)/(p_SD/sqrt(n))\n",
    "z=(45-50)/(40/100**0.5)\n",
    "z"
   ]
  },
  {
   "cell_type": "code",
   "execution_count": 4,
   "id": "0a8684bb",
   "metadata": {},
   "outputs": [
    {
     "data": {
      "text/plain": [
       "1.25"
      ]
     },
     "execution_count": 4,
     "metadata": {},
     "output_type": "execute_result"
    }
   ],
   "source": [
    "# find z-scores at x=55; z=(s_mean-P_mean)/(p_SD/sqrt(n))\n",
    "z=(55-50)/(40/100**0.5)\n",
    "z"
   ]
  },
  {
   "cell_type": "code",
   "execution_count": 5,
   "id": "53a4f52f",
   "metadata": {},
   "outputs": [
    {
     "data": {
      "text/plain": [
       "0.7887004526662893"
      ]
     },
     "execution_count": 5,
     "metadata": {},
     "output_type": "execute_result"
    }
   ],
   "source": [
    "# For No investigation P(45<X<55) using z_scores = P(X<50)-P(X<45)\n",
    "stats.norm.cdf(1.25)-stats.norm.cdf(-1.25)"
   ]
  },
  {
   "cell_type": "code",
   "execution_count": 6,
   "id": "7677fd99",
   "metadata": {},
   "outputs": [
    {
     "data": {
      "text/plain": [
       "(45.00000495667348, 54.99999504332652)"
      ]
     },
     "execution_count": 6,
     "metadata": {},
     "output_type": "execute_result"
    }
   ],
   "source": [
    "stats.norm.interval(0.7887,loc=50,scale=40/(100**0.5))"
   ]
  },
  {
   "cell_type": "code",
   "execution_count": 7,
   "id": "06bf902c",
   "metadata": {},
   "outputs": [
    {
     "data": {
      "text/plain": [
       "0.21130000000000004"
      ]
     },
     "execution_count": 7,
     "metadata": {},
     "output_type": "execute_result"
    }
   ],
   "source": [
    "# For Investigation 1-P(45<X<55)\n",
    "1-0.7887"
   ]
  },
  {
   "cell_type": "raw",
   "id": "2884aed3",
   "metadata": {},
   "source": [
    "4.\tThe auditors from the above example would like to maintain the probability of investigation to 5%. Which of the following represents the minimum number transactions that they should sample if they do not want to change the thresholds of 45 and 55? Assume that the sample statistics remain unchanged.\n",
    "\n",
    "\t144\n",
    "\t150\n",
    "\t196\n",
    "\t250\n",
    "\tNot enough information\n",
    "Ans4) )  mu =50  std=40 X=55 Z=1.96\n",
    "\tZ= (X-µ)/𝜎/√n\n",
    "\t= (55-50)/40/√n\n",
    "\tn=250\n"
   ]
  },
  {
   "cell_type": "code",
   "execution_count": 1,
   "id": "3c9a8147",
   "metadata": {},
   "outputs": [],
   "source": [
    "from scipy import stats\n",
    "from scipy.stats import norm"
   ]
  },
  {
   "cell_type": "code",
   "execution_count": 2,
   "id": "2f6bd71b",
   "metadata": {},
   "outputs": [
    {
     "data": {
      "text/plain": [
       "(48.48341392902199, 151.516586070978)"
      ]
     },
     "execution_count": 2,
     "metadata": {},
     "output_type": "execute_result"
    }
   ],
   "source": [
    "stats.norm.interval(0.99,100,20)"
   ]
  },
  {
   "cell_type": "code",
   "execution_count": null,
   "id": "50261ee7",
   "metadata": {},
   "outputs": [],
   "source": []
  }
 ],
 "metadata": {
  "kernelspec": {
   "display_name": "Python 3 (ipykernel)",
   "language": "python",
   "name": "python3"
  },
  "language_info": {
   "codemirror_mode": {
    "name": "ipython",
    "version": 3
   },
   "file_extension": ".py",
   "mimetype": "text/x-python",
   "name": "python",
   "nbconvert_exporter": "python",
   "pygments_lexer": "ipython3",
   "version": "3.9.12"
  }
 },
 "nbformat": 4,
 "nbformat_minor": 5
}
