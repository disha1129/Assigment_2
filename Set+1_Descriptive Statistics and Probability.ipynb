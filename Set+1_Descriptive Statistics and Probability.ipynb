{
 "cells": [
  {
   "cell_type": "code",
   "execution_count": 68,
   "id": "e4314948",
   "metadata": {},
   "outputs": [],
   "source": [
    "import pandas as pd\n",
    "import matplotlib.pyplot as plt\n",
    "import numpy as np"
   ]
  },
  {
   "cell_type": "code",
   "execution_count": 12,
   "id": "c03fb106",
   "metadata": {},
   "outputs": [],
   "source": [
    "data={'Name of company':['Allied Signal','Bankers Trust','General Mills','ITT Industries','J.P.Morgan & Co.','Lehman Brothers',\n",
    "      'Marriott','MCI','Merrill Lynch','Microsoft','Morgan Stanley','Sun Microsystems','Travelers','US Airways',\n",
    "      'Warner-Lambert'],\n",
    " 'Measure':[24.23,25.53,25.41,24.14,29.62,28.25,25.81,24.39,40.26,32.95,91.36,25.99,39.42,26.71,35.00]}"
   ]
  },
  {
   "cell_type": "code",
   "execution_count": 22,
   "id": "f01258cb",
   "metadata": {},
   "outputs": [],
   "source": [
    "df = pd.DataFrame.from_dict(data)"
   ]
  },
  {
   "cell_type": "code",
   "execution_count": 23,
   "id": "ac9b091d",
   "metadata": {},
   "outputs": [
    {
     "data": {
      "text/html": [
       "<div>\n",
       "<style scoped>\n",
       "    .dataframe tbody tr th:only-of-type {\n",
       "        vertical-align: middle;\n",
       "    }\n",
       "\n",
       "    .dataframe tbody tr th {\n",
       "        vertical-align: top;\n",
       "    }\n",
       "\n",
       "    .dataframe thead th {\n",
       "        text-align: right;\n",
       "    }\n",
       "</style>\n",
       "<table border=\"1\" class=\"dataframe\">\n",
       "  <thead>\n",
       "    <tr style=\"text-align: right;\">\n",
       "      <th></th>\n",
       "      <th>Name of company</th>\n",
       "      <th>Measure</th>\n",
       "    </tr>\n",
       "  </thead>\n",
       "  <tbody>\n",
       "    <tr>\n",
       "      <th>0</th>\n",
       "      <td>Allied Signal</td>\n",
       "      <td>24.23</td>\n",
       "    </tr>\n",
       "    <tr>\n",
       "      <th>1</th>\n",
       "      <td>Bankers Trust</td>\n",
       "      <td>25.53</td>\n",
       "    </tr>\n",
       "    <tr>\n",
       "      <th>2</th>\n",
       "      <td>General Mills</td>\n",
       "      <td>25.41</td>\n",
       "    </tr>\n",
       "    <tr>\n",
       "      <th>3</th>\n",
       "      <td>ITT Industries</td>\n",
       "      <td>24.14</td>\n",
       "    </tr>\n",
       "    <tr>\n",
       "      <th>4</th>\n",
       "      <td>J.P.Morgan &amp; Co.</td>\n",
       "      <td>29.62</td>\n",
       "    </tr>\n",
       "    <tr>\n",
       "      <th>5</th>\n",
       "      <td>Lehman Brothers</td>\n",
       "      <td>28.25</td>\n",
       "    </tr>\n",
       "    <tr>\n",
       "      <th>6</th>\n",
       "      <td>Marriott</td>\n",
       "      <td>25.81</td>\n",
       "    </tr>\n",
       "    <tr>\n",
       "      <th>7</th>\n",
       "      <td>MCI</td>\n",
       "      <td>24.39</td>\n",
       "    </tr>\n",
       "    <tr>\n",
       "      <th>8</th>\n",
       "      <td>Merrill Lynch</td>\n",
       "      <td>40.26</td>\n",
       "    </tr>\n",
       "    <tr>\n",
       "      <th>9</th>\n",
       "      <td>Microsoft</td>\n",
       "      <td>32.95</td>\n",
       "    </tr>\n",
       "    <tr>\n",
       "      <th>10</th>\n",
       "      <td>Morgan Stanley</td>\n",
       "      <td>91.36</td>\n",
       "    </tr>\n",
       "    <tr>\n",
       "      <th>11</th>\n",
       "      <td>Sun Microsystems</td>\n",
       "      <td>25.99</td>\n",
       "    </tr>\n",
       "    <tr>\n",
       "      <th>12</th>\n",
       "      <td>Travelers</td>\n",
       "      <td>39.42</td>\n",
       "    </tr>\n",
       "    <tr>\n",
       "      <th>13</th>\n",
       "      <td>US Airways</td>\n",
       "      <td>26.71</td>\n",
       "    </tr>\n",
       "    <tr>\n",
       "      <th>14</th>\n",
       "      <td>Warner-Lambert</td>\n",
       "      <td>35.00</td>\n",
       "    </tr>\n",
       "  </tbody>\n",
       "</table>\n",
       "</div>"
      ],
      "text/plain": [
       "     Name of company  Measure\n",
       "0      Allied Signal    24.23\n",
       "1      Bankers Trust    25.53\n",
       "2      General Mills    25.41\n",
       "3     ITT Industries    24.14\n",
       "4   J.P.Morgan & Co.    29.62\n",
       "5    Lehman Brothers    28.25\n",
       "6           Marriott    25.81\n",
       "7                MCI    24.39\n",
       "8      Merrill Lynch    40.26\n",
       "9          Microsoft    32.95\n",
       "10    Morgan Stanley    91.36\n",
       "11  Sun Microsystems    25.99\n",
       "12         Travelers    39.42\n",
       "13        US Airways    26.71\n",
       "14    Warner-Lambert    35.00"
      ]
     },
     "execution_count": 23,
     "metadata": {},
     "output_type": "execute_result"
    }
   ],
   "source": [
    "df"
   ]
  },
  {
   "cell_type": "code",
   "execution_count": 52,
   "id": "666a6a57",
   "metadata": {},
   "outputs": [
    {
     "data": {
      "text/plain": [
       "33.27133333333333"
      ]
     },
     "execution_count": 52,
     "metadata": {},
     "output_type": "execute_result"
    }
   ],
   "source": [
    "mean=df['Measure'].mean()\n",
    "mean"
   ]
  },
  {
   "cell_type": "code",
   "execution_count": 53,
   "id": "55f4e875",
   "metadata": {
    "scrolled": true
   },
   "outputs": [
    {
     "data": {
      "text/plain": [
       "0.3327133333333333"
      ]
     },
     "execution_count": 53,
     "metadata": {},
     "output_type": "execute_result"
    }
   ],
   "source": [
    "mean/100"
   ]
  },
  {
   "cell_type": "code",
   "execution_count": 55,
   "id": "f782b6e0",
   "metadata": {},
   "outputs": [
    {
     "data": {
      "text/plain": [
       "16.945400921222028"
      ]
     },
     "execution_count": 55,
     "metadata": {},
     "output_type": "execute_result"
    }
   ],
   "source": [
    "std=df['Measure'].std()\n",
    "std"
   ]
  },
  {
   "cell_type": "code",
   "execution_count": 56,
   "id": "12b73636",
   "metadata": {},
   "outputs": [
    {
     "data": {
      "text/plain": [
       "0.16945400921222029"
      ]
     },
     "execution_count": 56,
     "metadata": {},
     "output_type": "execute_result"
    }
   ],
   "source": [
    "std/100"
   ]
  },
  {
   "cell_type": "code",
   "execution_count": 58,
   "id": "8503781b",
   "metadata": {},
   "outputs": [
    {
     "data": {
      "text/plain": [
       "287.1466123809524"
      ]
     },
     "execution_count": 58,
     "metadata": {},
     "output_type": "execute_result"
    }
   ],
   "source": [
    "vari=df['Measure'].var()\n",
    "vari"
   ]
  },
  {
   "cell_type": "code",
   "execution_count": 59,
   "id": "0df169b4",
   "metadata": {},
   "outputs": [
    {
     "data": {
      "text/plain": [
       "2.871466123809524"
      ]
     },
     "execution_count": 59,
     "metadata": {},
     "output_type": "execute_result"
    }
   ],
   "source": [
    "vari/100"
   ]
  },
  {
   "cell_type": "code",
   "execution_count": 70,
   "id": "18825ec3",
   "metadata": {},
   "outputs": [
    {
     "data": {
      "text/plain": [
       "<AxesSubplot:>"
      ]
     },
     "execution_count": 70,
     "metadata": {},
     "output_type": "execute_result"
    },
    {
     "data": {
      "image/png": "[encoded data removed]",
      "text/plain": [
       "<Figure size 432x288 with 1 Axes>"
      ]
     },
     "metadata": {
      "needs_background": "light"
     },
     "output_type": "display_data"
    }
   ],
   "source": [
    "df.boxplot()"
   ]
  },
  {
   "cell_type": "code",
   "execution_count": 89,
   "id": "7f00c1f6",
   "metadata": {},
   "outputs": [
    {
     "name": "stdout",
     "output_type": "stream",
     "text": [
      "Q1_Poistion 1.75\n",
      "Q3_Poistion 5.25\n",
      "IQR 13\n",
      "Lower_fence -12.5\n",
      "Upper_fence 39.5\n"
     ]
    }
   ],
   "source": [
    "#Que2\n",
    "'''Answer the following three questions based on the box-plot above.\n",
    "(i)What is inter-quartile range of this dataset? \n",
    "\\n (please approximate the numbers)\\n\n",
    "In one line, explain what this value implies.'''\n",
    "Q1_Poistion=(25/100)*(6+1)\n",
    "print('Q1_Poistion',Q1_Poistion)\n",
    "Q1_value=7 # Value check in Box Plot\n",
    "\n",
    "Q3_Poistion=(75/100)*(6+1)\n",
    "print('Q3_Poistion',Q3_Poistion)\n",
    "Q3_value=20  # Value check in Box Plot\n",
    "IQR=Q3_value-Q1_value\n",
    "print('IQR',IQR)\n",
    "\n",
    "\n",
    "Lower_fence=Q1_value-1.5*(IQR)\n",
    "print('Lower_fence',Lower_fence)\n",
    "\n",
    "Upper_fence=Q3_value+1.5*(IQR)\n",
    "print('Upper_fence',Upper_fence)"
   ]
  },
  {
   "cell_type": "markdown",
   "id": "55dd0158",
   "metadata": {},
   "source": [
    "(ii) What can we say about the skewness of this dataset?\n",
    "Ans3 The Dataset has outlier on higher side, so the skewness of dataset is\n",
    "Positively skewed."
   ]
  },
  {
   "cell_type": "raw",
   "id": "5a3e4c34",
   "metadata": {},
   "source": [
    "(iii) If it was found that the data point with the value 25 is actually 2.5, how would the new\n",
    "box-plot be affected?\n",
    "Ansiii)The new boxplot does not have outlier because value 2.5 is in lower Whisker.\n",
    "It will reduce the right skewness of the data."
   ]
  },
  {
   "cell_type": "raw",
   "id": "857f3d7b",
   "metadata": {},
   "source": [
    "Que3\n",
    "Answer the following three questions based on the histogram above.\n",
    "(i)\tWhere would the mode of this dataset lie?\n",
    "Ans(i)\tBetween 4-8\n",
    "(ii)\tComment on the skewness of the dataset.\n",
    "Ans(ii)\tRight Side Skewness of data or Positively Skewed.\n",
    "(iii)\tSuppose that the above histogram and the box-plot in question 2 are plotted for the same dataset. Explain how these graphs complement each other in providing information about any dataset. \n",
    "Ans(iii)  In both Boxplot and histrogram are positively skewed so with that we find outliers and with histogram we check frequency of dataset. \n"
   ]
  },
  {
   "cell_type": "raw",
   "id": "9a033621",
   "metadata": {},
   "source": [
    "QUE4.AT&T was running commercials in 1990 aimed at luring back customers who had switched to one of the other long-distance phone service providers. One such commercial shows a businessman trying to reach Phoenix and mistakenly getting Fiji, where a half-naked native on a beach responds incomprehensibly in Polynesian. When asked about this advertisement, AT&T admitted that the portrayed incident did not actually take place but added that this was an enactment of something that “could happen.” Suppose that one in 200 long-distance telephone calls is misdirected. What is the probability that at least one in five attempted telephone calls reaches the wrong number? (Assume independence of attempts.)\n",
    "Ans4)    Probability of call misdirecting  p=1/200\n",
    "\tProbability of call not misdirecting  q =1- (1/200) =199/200\n",
    "\tNumber of call (n) = 5\n",
    "\tP(x)=nCxpxqn-x\n",
    "at least one in five attempted telephone calls reaches the wrong number\n",
    "1 – no call reaches the wrong no.\n",
    "1-P(0)\n",
    "1-⁵C₀(1/200)⁰(199/200)⁵⁻⁰\n",
    "= 1-(199/200)⁵\n",
    "= 0.02475\n"
   ]
  },
  {
   "cell_type": "raw",
   "id": "fe8853b7",
   "metadata": {},
   "source": [
    "QUE5)Returns on a certain business venture, to the nearest $1,000, are known to follow the following probability distribution\n",
    "x\tP(x)\n",
    "-2,000\t0.1\n",
    "-1,000\t0.1\n",
    "0\t0.2\n",
    "1000\t0.2\n",
    "2000\t0.3\n",
    "3000\t0.1\n",
    "\n",
    "\tWhat is the most likely monetary outcome of the business venture?\n",
    "Ans(i)\tThe most likely monetary outcome of business venture is 2000$ because it has\t maximum probility of 0.3\n",
    "\tIs the venture likely to be successful? Explain\n",
    "Ans(ii)\twhen is successful if X is positive, if is negative than this venture is unsuccessful,\n",
    "\tHere,\tP(x)=(0.1)+(0.1)+(0.2)= 0.5\n",
    "\t\tP(x)=0.2+0.3+0.1=0.6\n",
    "\t\t0.6 > 0.5 , Hence positive value is greater than negative,\n",
    "\t\tVenture is likely to be sucessful\n",
    "\t\t\n",
    "\tWhat is the long-term average earning of business ventures of this kind? Explain\n",
    "Ans(iii)\tP(x)*(x)= (-2000)*(0.1)+(-1000)*(0.1)+(0)*(0.2)+(1000)*(0.2)+(2000)*(0.3)+(3000)*(0.1)\n",
    "\tExpected value =800, its positive so venture is successful.\n",
    "\n",
    "\tWhat is the good measure of the risk involved in a venture of this kind? Compute this measure\n",
    "Ans(iv)\tTotal all negative probability to calculate risk involve.\n",
    "\tP(Risk)= E(X²)  - { E(X) }²\n",
    "\t\t= 280000 – 640000\n",
    "\tVariance P(Risk)=2160000\n",
    "\tStandard Deviation = √2160000\n",
    "\t\t\t= 1469.69\n"
   ]
  },
  {
   "cell_type": "code",
   "execution_count": 4,
   "id": "b5bb27a8",
   "metadata": {},
   "outputs": [],
   "source": [
    "from scipy import stats\n",
    "from scipy.stats import norm"
   ]
  },
  {
   "cell_type": "code",
   "execution_count": 5,
   "id": "98bbd506",
   "metadata": {},
   "outputs": [
    {
     "data": {
      "text/plain": [
       "(48.48341392902199, 151.516586070978)"
      ]
     },
     "execution_count": 5,
     "metadata": {},
     "output_type": "execute_result"
    }
   ],
   "source": [
    "stats.norm.interval(0.99,100,20)"
   ]
  },
  {
   "cell_type": "code",
   "execution_count": 14,
   "id": "5eede13a",
   "metadata": {},
   "outputs": [],
   "source": [
    "import numpy as np\n",
    "from scipy import stats\n",
    "from scipy.stats import norm"
   ]
  },
  {
   "cell_type": "code",
   "execution_count": 15,
   "id": "97096f7b",
   "metadata": {},
   "outputs": [
    {
     "name": "stdout",
     "output_type": "stream",
     "text": [
      "Mean Profit in Rs 540 Mn\n"
     ]
    }
   ],
   "source": [
    "# Mean from two different division =M1+M2\n",
    "Mean=5+7\n",
    "print('Mean Profit in Rs',Mean*45,'Mn')"
   ]
  },
  {
   "cell_type": "code",
   "execution_count": 16,
   "id": "f1480a66",
   "metadata": {},
   "outputs": [
    {
     "name": "stdout",
     "output_type": "stream",
     "text": [
      "Standard Deviation is Rs 225.0 Mn\n"
     ]
    }
   ],
   "source": [
    "# Variance of profit\n",
    "SD=np.sqrt((9)+(16))\n",
    "print('Standard Deviation is Rs',SD*45,'Mn')"
   ]
  },
  {
   "cell_type": "code",
   "execution_count": 17,
   "id": "29bb91da",
   "metadata": {},
   "outputs": [
    {
     "name": "stdout",
     "output_type": "stream",
     "text": [
      "Range is Rs (99.00810347848784, 980.9918965215122) in Mn\n"
     ]
    }
   ],
   "source": [
    "print('Range is Rs',(stats.norm.interval(0.95,540,225)),'in Mn')"
   ]
  },
  {
   "cell_type": "code",
   "execution_count": 18,
   "id": "010fdbab",
   "metadata": {},
   "outputs": [
    {
     "name": "stdout",
     "output_type": "stream",
     "text": [
      "5th percentile of profit (in Million Rupees) is 170.0\n"
     ]
    }
   ],
   "source": [
    "#B\n",
    "X= 540+(-1.645)*(225)\n",
    "print('5th percentile of profit (in Million Rupees) is',np.round(X,))"
   ]
  },
  {
   "cell_type": "code",
   "execution_count": 23,
   "id": "39a54947",
   "metadata": {},
   "outputs": [
    {
     "data": {
      "text/plain": [
       "0.0477903522728147"
      ]
     },
     "execution_count": 23,
     "metadata": {},
     "output_type": "execute_result"
    }
   ],
   "source": [
    "# Probability of Division 1 making a loss P(X<0)\n",
    "stats.norm.cdf(0,5,3)"
   ]
  },
  {
   "cell_type": "code",
   "execution_count": 24,
   "id": "fb6cd4de",
   "metadata": {},
   "outputs": [
    {
     "data": {
      "text/plain": [
       "0.040059156863817086"
      ]
     },
     "execution_count": 24,
     "metadata": {},
     "output_type": "execute_result"
    }
   ],
   "source": [
    "stats.norm.cdf(0,7,4)"
   ]
  },
  {
   "cell_type": "code",
   "execution_count": null,
   "id": "44c077df",
   "metadata": {},
   "outputs": [],
   "source": []
  }
 ],
 "metadata": {
  "kernelspec": {
   "display_name": "Python 3 (ipykernel)",
   "language": "python",
   "name": "python3"
  },
  "language_info": {
   "codemirror_mode": {
    "name": "ipython",
    "version": 3
   },
   "file_extension": ".py",
   "mimetype": "text/x-python",
   "name": "python",
   "nbconvert_exporter": "python",
   "pygments_lexer": "ipython3",
   "version": "3.9.12"
  }
 },
 "nbformat": 4,
 "nbformat_minor": 5
}
