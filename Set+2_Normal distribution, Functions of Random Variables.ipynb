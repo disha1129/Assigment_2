{
 "cells": [
  {
   "cell_type": "raw",
   "id": "b3fc571f",
   "metadata": {},
   "source": [
    "1.The time required for servicing transmissions is normally distributed with  = 45 minutes and  = 8 minutes. The service manager plans to have work begin on the transmission of a customer’s car 10 minutes after the car is dropped off and the customer is told that the car will be ready within 1 hour from drop-off. What is the probability that the service manager cannot meet his commitment? \n",
    "\n",
    "A.\t0.3875   \n",
    "B.\t0.2676   \n",
    "C.\t0.5   \n",
    "D.\t0.6987 \n",
    "Ans1)\tµ=45min \n",
    "\tσ=8min\n",
    "\tx= 60min-10min=50min\n",
    "the probability that the service manager cannot meet his commitment:- p(x>50)=1-P(x<=50)\t\n",
    "\tZ- Score= (x- µ)/ σ\n",
    "\t\t=(50-45)/8\n",
    "\t\t=0.625(see in Z table)\n",
    "\t\t=0.732\n",
    "\tthe probability that the service manager cannot meet his commitment: 1-0.732=0.2676\n"
   ]
  },
  {
   "cell_type": "code",
   "execution_count": 3,
   "id": "865abfd0",
   "metadata": {},
   "outputs": [],
   "source": [
    "from scipy import stats\n",
    "from scipy.stats import norm"
   ]
  },
  {
   "cell_type": "code",
   "execution_count": 7,
   "id": "8efd90c0",
   "metadata": {},
   "outputs": [
    {
     "data": {
      "text/plain": [
       "0.625"
      ]
     },
     "execution_count": 7,
     "metadata": {},
     "output_type": "execute_result"
    }
   ],
   "source": [
    "#Find Z-score at X=50: z=(X-µ)/σ\n",
    "z=(50-45)/8\n",
    "z"
   ]
  },
  {
   "cell_type": "code",
   "execution_count": 10,
   "id": "58a601db",
   "metadata": {},
   "outputs": [
    {
     "data": {
      "text/plain": [
       "0.26598552904870054"
      ]
     },
     "execution_count": 10,
     "metadata": {},
     "output_type": "execute_result"
    }
   ],
   "source": [
    "# Find probability P(X>50)\n",
    "1-stats.norm.cdf(0.625)"
   ]
  },
  {
   "cell_type": "code",
   "execution_count": 11,
   "id": "ef26cdac",
   "metadata": {},
   "outputs": [
    {
     "data": {
      "text/plain": [
       "0.268"
      ]
     },
     "execution_count": 11,
     "metadata": {},
     "output_type": "execute_result"
    }
   ],
   "source": [
    "# p(X>50) 1-P(X<=50)\n",
    "1-0.732"
   ]
  },
  {
   "cell_type": "raw",
   "id": "4a80ce3b",
   "metadata": {},
   "source": [
    "\n",
    "2.\tThe current age (in years) of 400 clerical employees at an insurance claims processing center is normally distributed with mean  = 38 and Standard deviation  =6. For each statement below, please specify True/False. If false, briefly explain why.\n",
    "A.\tMore employees at the processing center are older than 44 than between 38 and 44.\n",
    "Ans(A)   µ=38 \n",
    "σ=6\n",
    "Probability of employee>44= pr(x>44)=1-pr(x<=44)\n",
    "For Z-score 44\n",
    "Z- Score= (x- µ)/ σ\n",
    "\t\t=(44-38)/6\n",
    "\t\t=1.00(see in Z table)\n",
    "\t\t=0.8413\n",
    "\tpr(x>44)=1-.8413\n",
    "\t\t=0.1587\n",
    "\tEmployee over 44 = 0.1587*400=63\n",
    "\t\n",
    "For Z-score 38\n",
    "Z- Score= (x- µ)/ σ\n",
    "\t\t=(38-38)/6\n",
    "\t\t=0(see in Z table)\n",
    "\t\t=0.50\n",
    "\tFor Between 38 and 44 =0.8413-0.5 =0.3413\n",
    "\tEmployee Between 38 and 44= 0.3413*400=136\n",
    "\tFrom above value statement A is False\n"
   ]
  },
  {
   "cell_type": "code",
   "execution_count": 12,
   "id": "36021267",
   "metadata": {},
   "outputs": [],
   "source": [
    "from scipy import stats\n",
    "from scipy.stats import norm"
   ]
  },
  {
   "cell_type": "raw",
   "id": "664ed3a4",
   "metadata": {},
   "source": [
    "# A. More employees at the processing center are older than 44 than between 38 and 44.\n",
    "# p(X>44); Employees older than 44 yrs of age\n"
   ]
  },
  {
   "cell_type": "code",
   "execution_count": 17,
   "id": "63e0c2d1",
   "metadata": {},
   "outputs": [
    {
     "data": {
      "text/plain": [
       "0.15865525393145707"
      ]
     },
     "execution_count": 17,
     "metadata": {},
     "output_type": "execute_result"
    }
   ],
   "source": [
    "1-stats.norm.cdf(44,loc=38,scale=6)"
   ]
  },
  {
   "cell_type": "code",
   "execution_count": 15,
   "id": "8fb0c909",
   "metadata": {},
   "outputs": [
    {
     "data": {
      "text/plain": [
       "0.3413447460685429"
      ]
     },
     "execution_count": 15,
     "metadata": {},
     "output_type": "execute_result"
    }
   ],
   "source": [
    "# p(38<X<44); Employees between 38 to 44 yrs of age\n",
    "stats.norm.cdf(44,38,6)-stats.norm.cdf(38,38,6)"
   ]
  },
  {
   "cell_type": "raw",
   "id": "c6f5dbe8",
   "metadata": {},
   "source": [
    "# B. A training program for employees under the age of 30 at the center would be expected to attract about 36 employees.\n",
    "Ans(B)   For 30\n",
    " \tZ- Score = (30-38)/6 = 0.09176\n",
    "Employees Below 30 = 0.09176 * 400 = 36\n",
    "So Statement B is True.\n"
   ]
  },
  {
   "cell_type": "code",
   "execution_count": 18,
   "id": "4d0c4d18",
   "metadata": {},
   "outputs": [
    {
     "data": {
      "text/plain": [
       "0.09121121972586788"
      ]
     },
     "execution_count": 18,
     "metadata": {},
     "output_type": "execute_result"
    }
   ],
   "source": [
    "# P(X<30); Employees under 30 yrs of age\n",
    "stats.norm.cdf(30,38,6)"
   ]
  },
  {
   "cell_type": "code",
   "execution_count": 20,
   "id": "78506a9c",
   "metadata": {},
   "outputs": [
    {
     "data": {
      "text/plain": [
       "36.484487890347154"
      ]
     },
     "execution_count": 20,
     "metadata": {},
     "output_type": "execute_result"
    }
   ],
   "source": [
    "# No. of employees attending training program from 400 nos. is N*P(X<30)\n",
    "400*stats.norm.cdf(30,38,6)"
   ]
  },
  {
   "cell_type": "raw",
   "id": "b8cdfd76",
   "metadata": {},
   "source": [
    "3.\tIf X1 ~ N(μ, σ2) and X2 ~ N(μ, σ2) are iid normal random variables, then what is the difference between 2 X1 and X1 + X2? Discuss both their distributions and parameters.       \n",
    "Ans3)2 is simply a larger scale version of the random variable X1. If is normally distributed\n",
    "then 2X1 is also normally distributed.X 1 and X 2 are normal distributed, the associated sums and random samples are exactly (and not just approximately) normal, with the appropriate parameters.\n"
   ]
  },
  {
   "cell_type": "raw",
   "id": "23037632",
   "metadata": {},
   "source": [
    "4.  Let X ~ N(100, 202). Find two values, a and b, symmetric about the mean, such that the probability of the random variable taking a value between them is 0.99. "
   ]
  },
  {
   "cell_type": "code",
   "execution_count": 1,
   "id": "ed6a73f7",
   "metadata": {},
   "outputs": [],
   "source": [
    "from scipy import stats\n",
    "from scipy.stats import norm"
   ]
  },
  {
   "cell_type": "code",
   "execution_count": 2,
   "id": "0603f002",
   "metadata": {},
   "outputs": [
    {
     "data": {
      "text/plain": [
       "(48.48341392902199, 151.516586070978)"
      ]
     },
     "execution_count": 2,
     "metadata": {},
     "output_type": "execute_result"
    }
   ],
   "source": [
    "stats.norm.interval(0.99,100,20)"
   ]
  },
  {
   "cell_type": "raw",
   "id": "936ed9ae",
   "metadata": {},
   "source": [
    "5. Consider a company that has two different divisions. The annual profits from the two divisions are independent and have distributions Profit1 ~ N(5, 32) and Profit2 ~ N(7, 42) respectively. Both the profits are in $ Million. Answer the following questions about the total profit of the company in Rupees. Assume that $1 = Rs. 45\n",
    "A.\tSpecify a Rupee range (centered on the mean) such that it contains 95% probability for the annual profit of the company. \n"
   ]
  },
  {
   "cell_type": "code",
   "execution_count": 3,
   "id": "00e0aea5",
   "metadata": {},
   "outputs": [],
   "source": [
    "import numpy as np\n",
    "from scipy import stats\n",
    "from scipy.stats import norm"
   ]
  },
  {
   "cell_type": "code",
   "execution_count": 4,
   "id": "758faafa",
   "metadata": {},
   "outputs": [
    {
     "name": "stdout",
     "output_type": "stream",
     "text": [
      "Mean Profit in Rs 540 Mn\n"
     ]
    }
   ],
   "source": [
    "# Mean from two different division =M1+M2\n",
    "Mean=5+7\n",
    "print('Mean Profit in Rs',Mean*45,'Mn')"
   ]
  },
  {
   "cell_type": "code",
   "execution_count": 5,
   "id": "929866cb",
   "metadata": {},
   "outputs": [
    {
     "name": "stdout",
     "output_type": "stream",
     "text": [
      "Standard Deviation is Rs 225.0 Mn\n"
     ]
    }
   ],
   "source": [
    "# Variance of profit\n",
    "SD=np.sqrt((9)+(16))\n",
    "print('Standard Deviation is Rs',SD*45,'Mn')"
   ]
  },
  {
   "cell_type": "code",
   "execution_count": 6,
   "id": "6e5e0a05",
   "metadata": {},
   "outputs": [
    {
     "name": "stdout",
     "output_type": "stream",
     "text": [
      "Range is Rs (99.00810347848784, 980.9918965215122) in Mn\n"
     ]
    }
   ],
   "source": [
    "print('Range is Rs',(stats.norm.interval(0.95,540,225)),'in Mn')"
   ]
  },
  {
   "cell_type": "raw",
   "id": "f4bc44b9",
   "metadata": {},
   "source": [
    "B.Specify the 5th percentile of profit (in Rupees) for the company"
   ]
  },
  {
   "cell_type": "code",
   "execution_count": 7,
   "id": "40c317e9",
   "metadata": {},
   "outputs": [
    {
     "name": "stdout",
     "output_type": "stream",
     "text": [
      "5th percentile of profit (in Million Rupees) is 170.0\n"
     ]
    }
   ],
   "source": [
    "#B\n",
    "X= 540+(-1.645)*(225)\n",
    "print('5th percentile of profit (in Million Rupees) is',np.round(X,))"
   ]
  },
  {
   "cell_type": "raw",
   "id": "1e3f1f9b",
   "metadata": {},
   "source": [
    "C.Which of the two divisions has a larger probability of making a loss in a given year?"
   ]
  },
  {
   "cell_type": "code",
   "execution_count": 8,
   "id": "3aec7b5c",
   "metadata": {},
   "outputs": [
    {
     "data": {
      "text/plain": [
       "0.0477903522728147"
      ]
     },
     "execution_count": 8,
     "metadata": {},
     "output_type": "execute_result"
    }
   ],
   "source": [
    "# Probability of Division 1 making a loss P(X<0)\n",
    "stats.norm.cdf(0,5,3)"
   ]
  },
  {
   "cell_type": "code",
   "execution_count": 9,
   "id": "26b7e075",
   "metadata": {},
   "outputs": [
    {
     "data": {
      "text/plain": [
       "0.040059156863817086"
      ]
     },
     "execution_count": 9,
     "metadata": {},
     "output_type": "execute_result"
    }
   ],
   "source": [
    "stats.norm.cdf(0,7,4)"
   ]
  },
  {
   "cell_type": "code",
   "execution_count": null,
   "id": "62a64aeb",
   "metadata": {},
   "outputs": [],
   "source": []
  }
 ],
 "metadata": {
  "kernelspec": {
   "display_name": "Python 3 (ipykernel)",
   "language": "python",
   "name": "python3"
  },
  "language_info": {
   "codemirror_mode": {
    "name": "ipython",
    "version": 3
   },
   "file_extension": ".py",
   "mimetype": "text/x-python",
   "name": "python",
   "nbconvert_exporter": "python",
   "pygments_lexer": "ipython3",
   "version": "3.9.12"
  }
 },
 "nbformat": 4,
 "nbformat_minor": 5
}
